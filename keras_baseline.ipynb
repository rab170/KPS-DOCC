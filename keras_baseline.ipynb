{
 "cells": [
  {
   "cell_type": "markdown",
   "metadata": {},
   "source": [
    "# Trains and evaluate a simple MLP on the Reuters newswire topic classification task."
   ]
  },
  {
   "cell_type": "code",
   "execution_count": 1,
   "metadata": {},
   "outputs": [
    {
     "name": "stderr",
     "output_type": "stream",
     "text": [
      "Using TensorFlow backend.\n"
     ]
    }
   ],
   "source": [
    "from __future__ import print_function\n",
    "\n",
    "import numpy as np\n",
    "import keras\n",
    "\n",
    "from keras.datasets import reuters\n",
    "from keras.preprocessing.text import Tokenizer\n",
    "\n",
    "from keras.models import Sequential\n",
    "from keras.layers import Dense, Dropout, Activation"
   ]
  },
  {
   "cell_type": "code",
   "execution_count": 39,
   "metadata": {
    "collapsed": true
   },
   "outputs": [],
   "source": [
    "# the length of an article is kept\n",
    "max_words = 2000\n",
    "# seed for split the reuters newswire dataset\n",
    "seed = 113\n",
    "# how many records from the dataset are used for test\n",
    "test_split = 0.2"
   ]
  },
  {
   "cell_type": "code",
   "execution_count": 2,
   "metadata": {
    "collapsed": true
   },
   "outputs": [],
   "source": [
    "word_index = reuters.get_word_index(path=\"reuters_word_index.json\")"
   ]
  },
  {
   "cell_type": "code",
   "execution_count": 40,
   "metadata": {},
   "outputs": [
    {
     "name": "stdout",
     "output_type": "stream",
     "text": [
      "Loading data...\n",
      "8982 train sequences\n",
      "2246 test sequences\n",
      "46 classes\n"
     ]
    }
   ],
   "source": [
    "print('Loading data...')\n",
    "(x_train, y_train), (x_test, y_test) = reuters.load_data(num_words=max_words, test_split=0.2)\n",
    "word_index = reuters.get_word_index(path=\"reuters_word_index.json\")\n",
    "\n",
    "print(len(x_train), 'train sequences')\n",
    "print(len(x_test), 'test sequences')\n",
    "\n",
    "num_classes = np.max(y_train) + 1\n",
    "print(num_classes, 'classes')"
   ]
  },
  {
   "cell_type": "code",
   "execution_count": 41,
   "metadata": {},
   "outputs": [
    {
     "name": "stdout",
     "output_type": "stream",
     "text": [
      "<class 'numpy.ndarray'> <class 'list'> \n",
      "\n",
      "[1, 2, 2, 8, 43, 10, 447, 5, 25, 207, 270, 5, 3095, 111, 16, 369, 186, 90, 67, 7, 89, 5, 19, 102, 6, 19, 124, 15, 90, 67, 84, 22, 482, 26, 7, 48, 4, 49, 8, 864, 39, 209, 154, 6, 151, 6, 83, 11, 15, 22, 155, 11, 15, 7, 48, 9, 4579, 1005, 504, 6, 258, 6, 272, 11, 15, 22, 134, 44, 11, 15, 16, 8, 197, 1245, 90, 67, 52, 29, 209, 30, 32, 132, 6, 109, 15, 17, 12]\n",
      "30979\n",
      "9385\n"
     ]
    }
   ],
   "source": [
    "print(type(x_train), type(x_train[0]), '\\n')\n",
    "print(x_train[0])\n",
    "print(len(word_index))\n",
    "print(word_index['spectrum'])"
   ]
  },
  {
   "cell_type": "code",
   "execution_count": 42,
   "metadata": {},
   "outputs": [
    {
     "name": "stdout",
     "output_type": "stream",
     "text": [
      "Vectorizing sequence data...\n",
      "\t x_train_m shape: (8982, 20000)\n",
      "\t x_test_m shape: (2246, 20000) \n",
      "\n",
      "Convert class vector to binary class matrix\n",
      "\t(for use with categorical_crossentropy)\n",
      "\t y_train shape: (8982, 46)\n",
      "\t y_test shape: (2246, 46)\n"
     ]
    }
   ],
   "source": [
    "print('Vectorizing sequence data...')\n",
    "tokenizer = Tokenizer(num_words = max_words)\n",
    "# mode: one of \"binary\", \"count\", \"tfidf\", \"freq\" (default: \"binary\").\n",
    "x_train_m = tokenizer.sequences_to_matrix(x_train, mode = 'binary')\n",
    "x_test_m = tokenizer.sequences_to_matrix(x_test, mode = 'binary')\n",
    "print('\\t x_train_m shape:', x_train_m.shape)\n",
    "print('\\t x_test_m shape:', x_test_m.shape, '\\n')\n",
    "\n",
    "print('Convert class vector to binary class matrix\\n'\n",
    "      '\\t(for use with categorical_crossentropy)')\n",
    "y_train_m = keras.utils.to_categorical(y_train, num_classes)\n",
    "y_test_m = keras.utils.to_categorical(y_test, num_classes)\n",
    "print('\\t y_train shape:', y_train_m.shape)\n",
    "print('\\t y_test shape:', y_test_m.shape)"
   ]
  },
  {
   "cell_type": "code",
   "execution_count": 43,
   "metadata": {},
   "outputs": [
    {
     "name": "stdout",
     "output_type": "stream",
     "text": [
      "Building model...\n",
      "Train on 8083 samples, validate on 899 samples\n",
      "Epoch 1/10\n",
      "8083/8083 [==============================] - 39s - loss: 1.2949 - acc: 0.7213 - val_loss: 0.9663 - val_acc: 0.8009\n",
      "Epoch 2/10\n",
      "8083/8083 [==============================] - 37s - loss: 0.4898 - acc: 0.8904 - val_loss: 0.9030 - val_acc: 0.8098\n",
      "Epoch 3/10\n",
      "8083/8083 [==============================] - 37s - loss: 0.2707 - acc: 0.9390 - val_loss: 0.9300 - val_acc: 0.8020\n",
      "Epoch 4/10\n",
      "8083/8083 [==============================] - 37s - loss: 0.2151 - acc: 0.9513 - val_loss: 0.9971 - val_acc: 0.7953\n",
      "Epoch 5/10\n",
      "8083/8083 [==============================] - 37s - loss: 0.1847 - acc: 0.9547 - val_loss: 1.0207 - val_acc: 0.7842\n",
      "Epoch 6/10\n",
      "8083/8083 [==============================] - 37s - loss: 0.1942 - acc: 0.9530 - val_loss: 1.0419 - val_acc: 0.8042\n",
      "Epoch 7/10\n",
      "8083/8083 [==============================] - 37s - loss: 0.1845 - acc: 0.9572 - val_loss: 1.1252 - val_acc: 0.7953\n",
      "Epoch 8/10\n",
      "8083/8083 [==============================] - 37s - loss: 0.1845 - acc: 0.9568 - val_loss: 1.0871 - val_acc: 0.7920\n",
      "Epoch 9/10\n",
      "8083/8083 [==============================] - 37s - loss: 0.1718 - acc: 0.9558 - val_loss: 1.1487 - val_acc: 0.7864\n",
      "Epoch 10/10\n",
      "8083/8083 [==============================] - 37s - loss: 0.1618 - acc: 0.9590 - val_loss: 1.1576 - val_acc: 0.7764\n",
      "2208/2246 [============================>.] - ETA: 0sTest score: 1.08515072294\n",
      "Test accuracy: 0.790293855797\n"
     ]
    }
   ],
   "source": [
    "print('Building model...')\n",
    "model = Sequential()\n",
    "model.add(Dense(512, input_shape=(max_words,)))\n",
    "model.add(Activation('relu'))\n",
    "model.add(Dropout(0.5))\n",
    "model.add(Dense(num_classes))\n",
    "model.add(Activation('softmax'))\n",
    "\n",
    "model.compile(loss='categorical_crossentropy',\n",
    "              optimizer='adam',\n",
    "              metrics=['accuracy'])\n",
    "\n",
    "batch_size = 32\n",
    "epochs = 10\n",
    "\n",
    "history = model.fit(x_train_m, y_train_m,\n",
    "                    batch_size = batch_size,\n",
    "                    epochs = epochs,\n",
    "                    verbose = 1,\n",
    "                    validation_split = 0.1)\n",
    "\n",
    "score = model.evaluate(x_test_m, y_test_m,\n",
    "                       batch_size = batch_size, verbose = 1)\n",
    "\n",
    "print('Test score:', score[0])\n",
    "print('Test accuracy:', score[1])"
   ]
  },
  {
   "cell_type": "code",
   "execution_count": null,
   "metadata": {
    "collapsed": true
   },
   "outputs": [],
   "source": []
  }
 ],
 "metadata": {
  "kernelspec": {
   "display_name": "Python 3",
   "language": "python",
   "name": "python3"
  },
  "language_info": {
   "codemirror_mode": {
    "name": "ipython",
    "version": 3
   },
   "file_extension": ".py",
   "mimetype": "text/x-python",
   "name": "python",
   "nbconvert_exporter": "python",
   "pygments_lexer": "ipython3",
   "version": "3.6.1"
  }
 },
 "nbformat": 4,
 "nbformat_minor": 2
}
